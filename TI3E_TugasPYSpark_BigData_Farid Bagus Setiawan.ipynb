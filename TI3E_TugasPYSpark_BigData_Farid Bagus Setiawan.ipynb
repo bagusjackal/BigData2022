{
  "nbformat": 4,
  "nbformat_minor": 0,
  "metadata": {
    "colab": {
      "name": "Untitled3.ipynb",
      "provenance": [],
      "authorship_tag": "ABX9TyN97+xjFOUp0E8YvrgDZaFr",
      "include_colab_link": true
    },
    "kernelspec": {
      "name": "python3",
      "display_name": "Python 3"
    },
    "language_info": {
      "name": "python"
    }
  },
  "cells": [
    {
      "cell_type": "markdown",
      "metadata": {
        "id": "view-in-github",
        "colab_type": "text"
      },
      "source": [
        "<a href=\"https://colab.research.google.com/github/bagusjackal/BigData2022/blob/main/TI3E_TugasPYSpark_BigData_Farid%20Bagus%20Setiawan.ipynb\" target=\"_parent\"><img src=\"https://colab.research.google.com/assets/colab-badge.svg\" alt=\"Open In Colab\"/></a>"
      ]
    },
    {
      "cell_type": "code",
      "execution_count": null,
      "metadata": {
        "id": "bm88tmOCrzye"
      },
      "outputs": [],
      "source": [
        ""
      ]
    }
  ]
}